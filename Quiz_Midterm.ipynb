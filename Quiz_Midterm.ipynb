{
  "nbformat": 4,
  "nbformat_minor": 0,
  "metadata": {
    "colab": {
      "provenance": [],
      "authorship_tag": "ABX9TyO1T5l6UiycNq3BdMyeGXea",
      "include_colab_link": true
    },
    "kernelspec": {
      "name": "python3",
      "display_name": "Python 3"
    },
    "language_info": {
      "name": "python"
    }
  },
  "cells": [
    {
      "cell_type": "markdown",
      "metadata": {
        "id": "view-in-github",
        "colab_type": "text"
      },
      "source": [
        "<a href=\"https://colab.research.google.com/github/JamesCequina/58002_OOP/blob/main/Quiz_Midterm.ipynb\" target=\"_parent\"><img src=\"https://colab.research.google.com/assets/colab-badge.svg\" alt=\"Open In Colab\"/></a>"
      ]
    },
    {
      "cell_type": "code",
      "execution_count": null,
      "metadata": {
        "colab": {
          "base_uri": "https://localhost:8080/"
        },
        "id": "_Iw8WmmPBlMo",
        "outputId": "e281e107-68fb-42ef-f574-d5657ee08fdd"
      },
      "outputs": [
        {
          "output_type": "stream",
          "name": "stdout",
          "text": [
            "Temperature Conversion Tool\n",
            "\n",
            "Select an option:\n",
            "1. Celsius to Fahrenheit\n",
            "2. Fahrenheit to Celsius\n",
            "3. Kelvin to Celsius\n",
            "4. Celsius to Kelvin\n",
            "5. Exit\n",
            "\n",
            "Enter your choice: 2\n",
            "\n",
            "Enter the temperature in Fahrenheit: 43\n",
            "\n",
            "43.0°F is equal to 6.111111111111111°C.\n",
            "\n",
            "Select an option:\n",
            "1. Celsius to Fahrenheit\n",
            "2. Fahrenheit to Celsius\n",
            "3. Kelvin to Celsius\n",
            "4. Celsius to Kelvin\n",
            "5. Exit\n"
          ]
        }
      ],
      "source": [
        "def celsius_to_fahrenheit(celsius):\n",
        "    \"\"\"Convert Celsius to Fahrenheit.\"\"\"\n",
        "    return (celsius * 9/5) + 32\n",
        "\n",
        "def fahrenheit_to_celsius(fahrenheit):\n",
        "    \"\"\"Convert Fahrenheit to Celsius.\"\"\"\n",
        "    return (fahrenheit - 32) * 5/9\n",
        "\n",
        "def kelvin_to_celsius(kelvin):\n",
        "    \"\"\"Convert Kelvin to Celsius.\"\"\"\n",
        "    return kelvin - 273.15\n",
        "\n",
        "def celsius_to_kelvin(celsius):\n",
        "    \"\"\"Convert Celsius to Kelvin.\"\"\"\n",
        "    return celsius + 273.15\n",
        "\n",
        "print(\"Temperature Conversion Tool\")\n",
        "\n",
        "while True:\n",
        "    print(\"\\nSelect an option:\")\n",
        "    print(\"1. Celsius to Fahrenheit\")\n",
        "    print(\"2. Fahrenheit to Celsius\")\n",
        "    print(\"3. Kelvin to Celsius\")\n",
        "    print(\"4. Celsius to Kelvin\")\n",
        "    print(\"5. Exit\")\n",
        "\n",
        "    choice = input(\"\\nEnter your choice: \")\n",
        "\n",
        "    if choice == \"1\":\n",
        "        celsius = float(input(\"\\nEnter the temperature in Celsius: \"))\n",
        "        fahrenheit = celsius_to_fahrenheit(celsius)\n",
        "        print(f\"\\n{celsius}°C is equal to {fahrenheit}°F.\")\n",
        "\n",
        "    elif choice == \"2\":\n",
        "        fahrenheit = float(input(\"\\nEnter the temperature in Fahrenheit: \"))\n",
        "        celsius = fahrenheit_to_celsius(fahrenheit)\n",
        "        print(f\"\\n{fahrenheit}°F is equal to {celsius}°C.\")\n",
        "\n",
        "    elif choice == \"3\":\n",
        "        kelvin = float(input(\"\\nEnter the temperature in Kelvin: \"))\n",
        "        celsius = kelvin_to_celsius(kelvin)\n",
        "        print(f\"\\n{kelvin} K is equal to {celsius}°C.\")\n",
        "\n",
        "    elif choice == \"4\":\n",
        "        celsius = float(input(\"\\nEnter the temperature in Celsius: \"))\n",
        "        kelvin = celsius_to_kelvin(celsius)\n",
        "        print(f\"\\n{celsius}°C is equal to {kelvin} K.\")\n",
        "\n",
        "    elif choice == \"5\":\n",
        "        print(\"\\nGoodbye!\")\n",
        "        break\n",
        "\n",
        "    else:\n",
        "        print(\"\\nInvalid choice. Please try again.\")"
      ]
    }
  ]
}