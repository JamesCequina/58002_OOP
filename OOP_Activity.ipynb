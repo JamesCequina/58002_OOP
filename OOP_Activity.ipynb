{
  "nbformat": 4,
  "nbformat_minor": 0,
  "metadata": {
    "colab": {
      "provenance": [],
      "authorship_tag": "ABX9TyOGMS1PJumOoOgoRmxa6Ntd",
      "include_colab_link": true
    },
    "kernelspec": {
      "name": "python3",
      "display_name": "Python 3"
    },
    "language_info": {
      "name": "python"
    }
  },
  "cells": [
    {
      "cell_type": "markdown",
      "metadata": {
        "id": "view-in-github",
        "colab_type": "text"
      },
      "source": [
        "<a href=\"https://colab.research.google.com/github/JamesCequina/58002_OOP/blob/main/OOP_Activity.ipynb\" target=\"_parent\"><img src=\"https://colab.research.google.com/assets/colab-badge.svg\" alt=\"Open In Colab\"/></a>"
      ]
    },
    {
      "cell_type": "code",
      "execution_count": 2,
      "metadata": {
        "colab": {
          "base_uri": "https://localhost:8080/"
        },
        "id": "imTRd2Ablias",
        "outputId": "f4b938ae-5023-45e2-bbe8-05143d210d86"
      },
      "outputs": [
        {
          "output_type": "stream",
          "name": "stdout",
          "text": [
            "Full name: James Dominic Cequina\n",
            "Age: 17\n",
            "School: Adamson University\n"
          ]
        }
      ],
      "source": [
        "class Person:\n",
        "    def __init__(self, name, age, school):\n",
        "        self.name = name\n",
        "        self.age = age\n",
        "        self.school = school\n",
        "\n",
        "    def identity(self):\n",
        "        print(\"Full name:\", self.name)\n",
        "        print(\"Age:\", self.age)\n",
        "        print(\"School:\", self.school)\n",
        "\n",
        "\n",
        "person = Person(\"James Dominic Cequina\", 17, \"Adamson University\")\n",
        "person.identity()"
      ]
    }
  ]
}