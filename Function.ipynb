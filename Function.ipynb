{
  "nbformat": 4,
  "nbformat_minor": 0,
  "metadata": {
    "colab": {
      "provenance": [],
      "authorship_tag": "ABX9TyO/Rh8U8fNu8K+4QnABYoE9",
      "include_colab_link": true
    },
    "kernelspec": {
      "name": "python3",
      "display_name": "Python 3"
    },
    "language_info": {
      "name": "python"
    }
  },
  "cells": [
    {
      "cell_type": "markdown",
      "metadata": {
        "id": "view-in-github",
        "colab_type": "text"
      },
      "source": [
        "<a href=\"https://colab.research.google.com/github/JamesCequina/58002_OOP/blob/main/Function.ipynb\" target=\"_parent\"><img src=\"https://colab.research.google.com/assets/colab-badge.svg\" alt=\"Open In Colab\"/></a>"
      ]
    },
    {
      "cell_type": "code",
      "execution_count": 1,
      "metadata": {
        "colab": {
          "base_uri": "https://localhost:8080/"
        },
        "id": "b24BvvgBz5ud",
        "outputId": "d2493a96-aa04-4bca-9e17-96c2bb96007e"
      },
      "outputs": [
        {
          "output_type": "execute_result",
          "data": {
            "text/plain": [
              "50"
            ]
          },
          "metadata": {},
          "execution_count": 1
        }
      ],
      "source": [
        "class Shape:\n",
        "  def __init__(self, length, width):\n",
        "    self.length = length\n",
        "    self.width = width\n",
        "    \n",
        "  def area_rec(self):\n",
        "    return self.length * self.width\n",
        "   #def area_sqr(self,side):\n",
        "     # return self.side *self.side\n",
        "\n",
        "rectangle = Shape(10,5)\n",
        "rectangle.area_rec()"
      ]
    },
    {
      "cell_type": "markdown",
      "source": [
        "Createb a function that will display your name and name your class as a Person"
      ],
      "metadata": {
        "id": "qHxZKWOR6N7Y"
      }
    },
    {
      "cell_type": "code",
      "source": [
        "class Person:\n",
        "    def __init__(self, name):\n",
        "        self.name = name\n",
        "    \n",
        "    def display_name(self):\n",
        "        print(\"My name is\", self.name)\n",
        "\n",
        "# Example usage:\n",
        "p = Person(\"James Dominic Cequina\")\n",
        "p.display_name()"
      ],
      "metadata": {
        "colab": {
          "base_uri": "https://localhost:8080/"
        },
        "id": "YgYEcNgA6Xfn",
        "outputId": "072210e9-6d93-46f0-83d3-b8331d182277"
      },
      "execution_count": 2,
      "outputs": [
        {
          "output_type": "stream",
          "name": "stdout",
          "text": [
            "My name is James Dominic Cequina\n"
          ]
        }
      ]
    }
  ]
}