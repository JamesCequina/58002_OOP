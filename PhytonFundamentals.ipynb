{
  "nbformat": 4,
  "nbformat_minor": 0,
  "metadata": {
    "colab": {
      "provenance": [],
      "authorship_tag": "ABX9TyOPKoI4KfAojZILvmIa7WLH",
      "include_colab_link": true
    },
    "kernelspec": {
      "name": "python3",
      "display_name": "Python 3"
    },
    "language_info": {
      "name": "python"
    }
  },
  "cells": [
    {
      "cell_type": "markdown",
      "metadata": {
        "id": "view-in-github",
        "colab_type": "text"
      },
      "source": [
        "<a href=\"https://colab.research.google.com/github/JamesCequina/58002_OOP/blob/main/PhytonFundamentals.ipynb\" target=\"_parent\"><img src=\"https://colab.research.google.com/assets/colab-badge.svg\" alt=\"Open In Colab\"/></a>"
      ]
    },
    {
      "cell_type": "markdown",
      "source": [
        "Python indentation"
      ],
      "metadata": {
        "id": "E7FY-W14z0bA"
      }
    },
    {
      "cell_type": "code",
      "source": [
        "if 5>2:\n",
        "  print(5>2)"
      ],
      "metadata": {
        "colab": {
          "base_uri": "https://localhost:8080/"
        },
        "id": "dzkwqFXwz73A",
        "outputId": "1d0e67ea-e009-4985-9317-336717ac9235"
      },
      "execution_count": 11,
      "outputs": [
        {
          "output_type": "stream",
          "name": "stdout",
          "text": [
            "True\n"
          ]
        }
      ]
    },
    {
      "cell_type": "markdown",
      "source": [
        "Python Comment"
      ],
      "metadata": {
        "id": "buMlgWji0Ae4"
      }
    },
    {
      "cell_type": "code",
      "source": [
        "if 5>2:\n",
        "  print(\"Hello World\")"
      ],
      "metadata": {
        "colab": {
          "base_uri": "https://localhost:8080/"
        },
        "id": "goxTdMAz0EcI",
        "outputId": "5a567dec-6b38-4dde-e2ae-532722732f95"
      },
      "execution_count": 13,
      "outputs": [
        {
          "output_type": "stream",
          "name": "stdout",
          "text": [
            "Hello World\n"
          ]
        }
      ]
    },
    {
      "cell_type": "markdown",
      "source": [
        "Naming Variable"
      ],
      "metadata": {
        "id": "DnZI_owh0l8w"
      }
    },
    {
      "cell_type": "code",
      "source": [
        "#single variable\n",
        "\n",
        "X=1\n",
        "Y=2\n",
        "\n",
        "print(X)\n",
        "print(Y)\n",
        "\n",
        "#multiple variable\n",
        "\n",
        "a=b=c=\"Cequina\"\n",
        "print(a)\n",
        "print(b)\n",
        "print(c)\n",
        "\n",
        "#multiple variable with multiple values\n",
        "\n",
        "e, f, g =1,2,3\n",
        "print(e)\n",
        "print(f)\n",
        "print(g)"
      ],
      "metadata": {
        "colab": {
          "base_uri": "https://localhost:8080/"
        },
        "id": "pNxNA_n_0qLI",
        "outputId": "d5f02de9-f2eb-4555-bbc1-907f918a57e2"
      },
      "execution_count": 16,
      "outputs": [
        {
          "output_type": "stream",
          "name": "stdout",
          "text": [
            "1\n",
            "2\n",
            "Cequina\n",
            "Cequina\n",
            "Cequina\n",
            "1\n",
            "2\n",
            "3\n"
          ]
        }
      ]
    },
    {
      "cell_type": "markdown",
      "source": [
        "Single or Double Quote"
      ],
      "metadata": {
        "id": "9gXG5Jt81ydf"
      }
    },
    {
      "cell_type": "code",
      "source": [
        "v = \"James\"\n",
        "u = \"James\"\n",
        "print(v)\n",
        "print(u)"
      ],
      "metadata": {
        "colab": {
          "base_uri": "https://localhost:8080/"
        },
        "id": "FaarWHDT14Wn",
        "outputId": "06c45850-6db9-462c-cb1e-1ec9712958db"
      },
      "execution_count": 17,
      "outputs": [
        {
          "output_type": "stream",
          "name": "stdout",
          "text": [
            "James\n",
            "James\n"
          ]
        }
      ]
    },
    {
      "cell_type": "markdown",
      "source": [
        "Casting"
      ],
      "metadata": {
        "id": "nFJDdfbW2Cv-"
      }
    },
    {
      "cell_type": "code",
      "source": [
        "p = int(5)\n",
        "q = float(5)\n",
        "p\n",
        "q"
      ],
      "metadata": {
        "colab": {
          "base_uri": "https://localhost:8080/"
        },
        "id": "B37xv9aa2GH3",
        "outputId": "4c141a21-61a9-4326-8f1d-e5288007d1e1"
      },
      "execution_count": 18,
      "outputs": [
        {
          "output_type": "execute_result",
          "data": {
            "text/plain": [
              "5.0"
            ]
          },
          "metadata": {},
          "execution_count": 18
        }
      ]
    },
    {
      "cell_type": "markdown",
      "source": [
        "Type() Function "
      ],
      "metadata": {
        "id": "bcRWhjHY2RcP"
      }
    },
    {
      "cell_type": "code",
      "source": [
        "f = 'James'\n",
        "g = 5.0\n",
        "h = 5\n",
        "print(type(f))\n",
        "print(type(g))\n",
        "print(type(h))"
      ],
      "metadata": {
        "colab": {
          "base_uri": "https://localhost:8080/"
        },
        "id": "K_dFbtd02Xaf",
        "outputId": "1a003b16-23b3-4a57-ef16-21e63f92dd93"
      },
      "execution_count": 20,
      "outputs": [
        {
          "output_type": "stream",
          "name": "stdout",
          "text": [
            "<class 'str'>\n",
            "<class 'float'>\n",
            "<class 'int'>\n"
          ]
        }
      ]
    },
    {
      "cell_type": "markdown",
      "source": [
        "Contamination using + symbol"
      ],
      "metadata": {
        "id": "Qkkd9sCp2-sP"
      }
    },
    {
      "cell_type": "code",
      "source": [
        "x = \"Enjoying\"\n",
        "print(\"Python programming is\" + \" \" +x)\n",
        "\n",
        "Y = \"Ako\"\n",
        "print(\"Pogi\" + \" \" +Y)\n",
        "\n",
        "J = \"Cequina\"\n",
        "print(\"James\" + \" \" + J)"
      ],
      "metadata": {
        "colab": {
          "base_uri": "https://localhost:8080/"
        },
        "id": "1VURTi3f3J_X",
        "outputId": "f4f02f4f-e471-4652-dd9f-d9961d221007"
      },
      "execution_count": 28,
      "outputs": [
        {
          "output_type": "stream",
          "name": "stdout",
          "text": [
            "Python programming is Enjoying\n",
            "Pogi Ako\n",
            "James Cequina\n"
          ]
        }
      ]
    }
  ]
}